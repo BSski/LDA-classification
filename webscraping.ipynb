{
  "nbformat": 4,
  "nbformat_minor": 0,
  "metadata": {
    "colab": {
      "name": "Web Scraping Projekt BK 1 Swędrowski.ipynb",
      "provenance": [],
      "collapsed_sections": []
    },
    "kernelspec": {
      "name": "python3",
      "display_name": "Python 3"
    }
  },
  "cells": [
    {
      "cell_type": "code",
      "metadata": {
        "id": "jSTM-res2Phf",
        "colab": {
          "base_uri": "https://localhost:8080/"
        },
        "outputId": "e1a94303-4276-491e-fb76-9d6278bcded4"
      },
      "source": [
        "!pip install requests\n",
        "!pip install bs4\n",
        "import requests\n",
        "import bs4\n",
        "\n",
        "from google.colab import drive\n",
        "\n",
        "drive.mount('/gdrive')\n",
        "\n",
        "import pandas\n",
        "from bs4 import BeautifulSoup\n",
        "import requests\n",
        "import time"
      ],
      "execution_count": null,
      "outputs": [
        {
          "output_type": "stream",
          "name": "stdout",
          "text": [
            "Requirement already satisfied: requests in /usr/local/lib/python3.7/dist-packages (2.23.0)\n",
            "Requirement already satisfied: idna<3,>=2.5 in /usr/local/lib/python3.7/dist-packages (from requests) (2.10)\n",
            "Requirement already satisfied: urllib3!=1.25.0,!=1.25.1,<1.26,>=1.21.1 in /usr/local/lib/python3.7/dist-packages (from requests) (1.24.3)\n",
            "Requirement already satisfied: chardet<4,>=3.0.2 in /usr/local/lib/python3.7/dist-packages (from requests) (3.0.4)\n",
            "Requirement already satisfied: certifi>=2017.4.17 in /usr/local/lib/python3.7/dist-packages (from requests) (2021.10.8)\n",
            "Requirement already satisfied: bs4 in /usr/local/lib/python3.7/dist-packages (0.0.1)\n",
            "Requirement already satisfied: beautifulsoup4 in /usr/local/lib/python3.7/dist-packages (from bs4) (4.6.3)\n"
          ]
        }
      ]
    },
    {
      "cell_type": "code",
      "metadata": {
        "colab": {
          "base_uri": "https://localhost:8080/"
        },
        "id": "Pg1PmOJdD9KM",
        "outputId": "0fe906dd-06cc-4419-8914-d1cf69b55389"
      },
      "source": [
        "# UBER PART\n",
        "base_url = 'https://www.consumeraffairs.com/travel/uber.html?page={}'\n",
        "\n",
        "comment_list = []\n",
        "comment_list = set(comment_list)\n",
        "counter = 0\n",
        "\n",
        "while True:\n",
        "  counter += 1\n",
        "\n",
        "  res = requests.get(base_url.format(counter))\n",
        "  soup = BeautifulSoup(res.text, 'html.parser')\n",
        "\n",
        "  for item in soup.select('div[class=\"rvw-bd\"] p p'):\n",
        "    if item.getText() not in comment_list:\n",
        "      comment_list.add(item.getText())\n",
        "\n",
        "  if counter == 30:\n",
        "      break\n",
        "  time.sleep(3)\n",
        "\n",
        "\n",
        "print(len(comment_list))\n",
        "\n",
        "\n",
        "df = pandas.DataFrame(comment_list)\n",
        "with open('/gdrive/My Drive/uber_data.csv', 'w') as f:\n",
        "  df.to_csv(f)"
      ],
      "execution_count": null,
      "outputs": [
        {
          "output_type": "stream",
          "text": [
            "Requirement already satisfied: requests in /usr/local/lib/python3.6/dist-packages (2.23.0)\n",
            "Requirement already satisfied: idna<3,>=2.5 in /usr/local/lib/python3.6/dist-packages (from requests) (2.10)\n",
            "Requirement already satisfied: certifi>=2017.4.17 in /usr/local/lib/python3.6/dist-packages (from requests) (2020.11.8)\n",
            "Requirement already satisfied: urllib3!=1.25.0,!=1.25.1,<1.26,>=1.21.1 in /usr/local/lib/python3.6/dist-packages (from requests) (1.24.3)\n",
            "Requirement already satisfied: chardet<4,>=3.0.2 in /usr/local/lib/python3.6/dist-packages (from requests) (3.0.4)\n",
            "Requirement already satisfied: bs4 in /usr/local/lib/python3.6/dist-packages (0.0.1)\n",
            "Requirement already satisfied: beautifulsoup4 in /usr/local/lib/python3.6/dist-packages (from bs4) (4.6.3)\n",
            "Drive already mounted at /gdrive; to attempt to forcibly remount, call drive.mount(\"/gdrive\", force_remount=True).\n",
            "842\n"
          ],
          "name": "stdout"
        }
      ]
    },
    {
      "cell_type": "code",
      "metadata": {
        "colab": {
          "base_uri": "https://localhost:8080/"
        },
        "id": "hIlyFrW2EAiZ",
        "outputId": "5767754c-1657-4296-e04d-b10564492e33"
      },
      "source": [
        "# TAXI PART\n",
        "base_url = 'https://www.reviews.co.uk/company-reviews/store/airports-taxi-transfers/{}'\n",
        "\n",
        "taxi_comment_list = []\n",
        "taxi_comment_list = set(taxi_comment_list)\n",
        "counter = 0\n",
        "\n",
        "while True:\n",
        "  counter += 1\n",
        "\n",
        "  res = requests.get(base_url.format(counter))\n",
        "  soup = BeautifulSoup(res.text, 'html.parser')\n",
        "\n",
        "  for item in soup.select('span[class=\"Review__body\"]'):\n",
        "    if item.getText() not in taxi_comment_list:\n",
        "      taxi_comment_list.add(item.getText()[1:-1])\n",
        "\n",
        "  if counter == 78:\n",
        "      break\n",
        "  time.sleep(3)\n",
        "\n",
        "\n",
        "print(len(taxi_comment_list))\n",
        "\n",
        "\n",
        "df_taxi = pandas.DataFrame(taxi_comment_list)\n",
        "with open('/gdrive/My Drive/taxi_data.csv', 'w') as f:\n",
        "  df_taxi.to_csv(f)"
      ],
      "execution_count": null,
      "outputs": [
        {
          "output_type": "stream",
          "text": [
            "1296\n"
          ],
          "name": "stdout"
        }
      ]
    },
    {
      "cell_type": "code",
      "metadata": {
        "colab": {
          "base_uri": "https://localhost:8080/",
          "height": 35
        },
        "id": "nweRJBHUGw6P",
        "outputId": "ea782ad0-194b-4216-c0a8-782420cba15e"
      },
      "source": [
        "# Concatenate both .csv files into one and save it to new .csv\n",
        "vertical_stack = pandas.concat([df_taxi, df], axis=0)\n",
        "\n",
        "with open('/gdrive/My Drive/vertical_stack.csv', 'w') as f:\n",
        "  vertical_stack.to_csv(f)"
      ],
      "execution_count": null,
      "outputs": [
        {
          "output_type": "execute_result",
          "data": {
            "application/vnd.google.colaboratory.intrinsic+json": {
              "type": "string"
            },
            "text/plain": [
              "\"\\n# Write the DataFrame to CSV file.\\nwith open('/gdrive/My Drive/vertical_stack.csv', 'w') as f:\\n  vertical_stack.to_csv(f)\""
            ]
          },
          "metadata": {
            "tags": []
          },
          "execution_count": 1
        }
      ]
    },
    {
      "cell_type": "code",
      "metadata": {
        "id": "EhIDwhJMVaSt"
      },
      "source": [
        ""
      ],
      "execution_count": null,
      "outputs": []
    }
  ]
}
